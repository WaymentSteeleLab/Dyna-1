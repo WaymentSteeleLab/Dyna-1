{
  "cells": [
    {
      "cell_type": "markdown",
      "metadata": {
        "id": "view-in-github",
        "colab_type": "text"
      },
      "source": [
        "<a href=\"https://colab.research.google.com/github/WaymentSteeleLab/Dyna-1/blob/main/colab/Dyna_1_ESM2.ipynb\" target=\"_parent\"><img src=\"https://colab.research.google.com/assets/colab-badge.svg\" alt=\"Open In Colab\"/></a>"
      ]
    },
    {
      "cell_type": "markdown",
      "metadata": {
        "id": "Lra9BAXo05wb"
      },
      "source": [
        "<img src=\"\" height=\"200\" align=\"right\" style=\"height:240px\">\n",
        "\n",
        "##Dyna-1 (ESM-2)\n",
        "Easy-to-use dynamics prediction with [Dyna-1](https://www.biorxiv.org/content/10.1101/2025.03.19.642801v1). Dyna-1 predicts the probability that each residue  experiences millisecond motions. We provide this Google Colab using a pre-trained version of ESM-2 to be available under a Non-Commercial License. <i>This was not the final reported model.</i>\n",
        "<br><br>\n",
        "\n",
        "A Google Colab for the best performing version of Dyna-1 is available at this [Google Colab](https://colab.research.google.com/github/WaymentSteeleLab/Dyna-1/blob/main/colab/Dyna_1.ipynb). The model requires the pre-trained wieghts from [ESM-3](https://www.biorxiv.org/content/10.1101/2024.07.01.600583v1), is subject to the License terms of ESM-3, and requires read permission to the [esm3-sm-open-v1](https://huggingface.co/EvolutionaryScale/esm3-sm-open-v1) weights.\n",
        "<br><br>\n",
        "\n",
        "\n",
        "<i>This colab was written by Gina El Nesr (gelnesr@stanford.edu)</i>"
      ]
    },
    {
      "cell_type": "code",
      "source": [
        "#@title **IMPORTANT:** run this cell first before doing 'Runtime →> Run all'\n",
        "#@markdown - The latest update to Google Colab broke numpy; this is a temporary patch.\n",
        "#@markdown - Note after running this cell, the session will crash (this is normal).\n",
        "\n",
        "import os, numpy, signal\n",
        "\n",
        "if numpy.__version__ != '1.26.4':\n",
        "  print(f\"Current numpy version {numpy.__version__} is incorrect. Installing 1.26.4...\")\n",
        "  os.system(\"'pip uninstall -y numpy\")\n",
        "  os.system(\"pip install numpy==1.26.4\")\n",
        "  # Restart the runtime using os.kill\n",
        "  os.kill(os. getpid(), signal.SIGKILL)\n",
        "else:\n",
        "  print (\"Numpy version is correct (1.26.4)\")"
      ],
      "metadata": {
        "cellView": "form",
        "id": "G9I7IAX68YuD"
      },
      "execution_count": null,
      "outputs": []
    },
    {
      "cell_type": "code",
      "execution_count": null,
      "metadata": {
        "collapsed": true,
        "id": "tkLr-G0-TJHi",
        "cellView": "form"
      },
      "outputs": [],
      "source": [
        "#@title Install dependencies & download model weights (~3 min)\n",
        "os.system('git clone https://github.com/WaymentSteeleLab/Dyna-1.git --depth 1')\n",
        "\n",
        "print('installing requirements for Dyna-1...')\n",
        "import os\n",
        "os.system('pip install -r Dyna-1/requirements.txt')\n",
        "os.system('pip install gdown, py3Dmol, torcheval')\n",
        "print('requirements installed!')\n",
        "\n",
        "import gdown\n",
        "if not os.path.isfile('Dyna-1/model/weights/dyna1.pt'):\n",
        "  print('downloading model weights...')\n",
        "  os.system('pip install -U huggingface_hub[cli]')\n",
        "  os.system('huggingface-cli download gelnesr/Dyna-1 --local-dir \"/content/Dyna-1/model/weights/\"')\n",
        "print('model weights downloaded!')\n",
        "if not os.path.exists('/content/outputs'):\n",
        "  os.mkdir('/content/outputs')\n",
        "if not os.path.exists('/content/inputs'):\n",
        "  os.mkdir('/content/inputs')"
      ]
    },
    {
      "cell_type": "code",
      "execution_count": null,
      "metadata": {
        "id": "Wi8yMEiMw2xR",
        "cellView": "form"
      },
      "outputs": [],
      "source": [
        "#@title Prepare Input\n",
        "from google.colab import files\n",
        "import os\n",
        "import re\n",
        "import hashlib\n",
        "import random\n",
        "import sys\n",
        "\n",
        "#@markdown ####Dyna-1 using ESM-2 requires a sequence input. Please specify below.\n",
        "sequence = 'MQYKLVINGKTLKGETTTKAVDAETAEKAFKQYANDNGVDGVWTYDDATKTFTVTE' #@param {type:\"string\"}\n",
        "\n",
        "if sequence == '':\n",
        "  sys.exit('No sequence given.')\n",
        "\n",
        "alphabets = {'protein': re.compile('^[acdefghiklmnpqrstvwy]*$', re.I)}\n",
        "if alphabets['protein'].search(sequence) is None:\n",
        "  sys.exit('Invalid sequence given.')"
      ]
    },
    {
      "cell_type": "code",
      "execution_count": null,
      "metadata": {
        "id": "TEiXLjXvw5Dk",
        "cellView": "form"
      },
      "outputs": [],
      "source": [
        "#@title Model Parameters\n",
        "job_name = 'test' #@param {type:\"string\"}\n",
        "if job_name == '':\n",
        "  name = random.randint(0, 100000)\n",
        "  job_name = f'{name}-Dyna1_ESM2'"
      ]
    },
    {
      "cell_type": "code",
      "source": [
        "#@title Run Dyna-1 (ESM-2) (~30s to 2 min)\n",
        "import os\n",
        "if os.getcwd() != '/contents/Dyna-1':\n",
        "    os.chdir('/content/Dyna-1')\n",
        "\n",
        "import warnings\n",
        "warnings.filterwarnings(\"ignore\")\n",
        "import utils\n",
        "import torch\n",
        "import random\n",
        "import argparse\n",
        "import numpy as np\n",
        "import pandas as pd\n",
        "\n",
        "from model.model import *\n",
        "from transformers import AutoTokenizer\n",
        "\n",
        "try:\n",
        "    sequence\n",
        "except NameError:\n",
        "    sys.exit('No sequence found.')\n",
        "\n",
        "warnings.filterwarnings(\"ignore\")\n",
        "DEVICE = torch.device(\"cpu\")\n",
        "\n",
        "if torch.cuda.is_available():\n",
        "   DEVICE = torch.device(\"cuda:0\")\n",
        "\n",
        "model = ESM_model(method='esm2', nheads=8, nlayers=12, layer=30).to(DEVICE)\n",
        "model.load_state_dict(torch.load('model/weights/dyna1-esm2.pt', map_location=DEVICE), strict=False)\n",
        "model.eval()\n",
        "\n",
        "tokenizer = AutoTokenizer.from_pretrained(f\"facebook/esm2_t6_8M_UR50D\")\n",
        "seq_input = tokenizer.encode(sequence, add_special_tokens=False, return_tensors='pt').to(DEVICE)\n",
        "sequence_id = seq_input != 0\n",
        "\n",
        "logits = model(seq_input, sequence_id)\n",
        "p = utils.prob_adjusted(logits).cpu().detach().numpy()\n",
        "\n",
        "out_df = pd.DataFrame({'position': np.arange(1,len(p)+1), 'residue': np.array(list(sequence)), 'probs': p,})\n",
        "out_df.to_csv(f'/content/outputs/{job_name}.csv', index=False)"
      ],
      "metadata": {
        "id": "a_Si1ijl5OCB",
        "cellView": "form"
      },
      "execution_count": null,
      "outputs": []
    },
    {
      "cell_type": "code",
      "source": [
        "#@title Plot probabilities\n",
        "import pandas as pd\n",
        "import numpy as np\n",
        "import matplotlib.pyplot as plt\n",
        "if os.path.isfile(f'/content/outputs/{job_name}.csv'):\n",
        "  data = pd.read_csv(f'/content/outputs/{job_name}.csv')\n",
        "else:\n",
        "  sys.exit('No files outputted.')\n",
        "probs = data['probs']\n",
        "\n",
        "# Plot the array\n",
        "plt.figure(figsize=(10,5), dpi=200)\n",
        "plt.plot(np.arange(1, len(probs)+1, 1), probs)\n",
        "plt.ylim(0, 1)\n",
        "plt.ylabel('Dyna-1 P(exchange)')\n",
        "plt.title(f'{job_name}')\n",
        "plt.show()"
      ],
      "metadata": {
        "id": "eUi1UeduIzAN",
        "collapsed": true,
        "cellView": "form"
      },
      "execution_count": null,
      "outputs": []
    }
  ],
  "metadata": {
    "colab": {
      "provenance": [],
      "include_colab_link": true
    },
    "kernelspec": {
      "display_name": "Python 3",
      "name": "python3"
    },
    "language_info": {
      "name": "python"
    }
  },
  "nbformat": 4,
  "nbformat_minor": 0
}
